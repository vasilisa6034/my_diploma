{
 "cells": [
  {
   "cell_type": "code",
   "execution_count": 10,
   "id": "e8ddfce2",
   "metadata": {},
   "outputs": [],
   "source": [
    "# %matplotlib notebook\n",
    "%matplotlib inline\n",
    "import numpy as np\n",
    "import matplotlib.pyplot as plt\n",
    "\n",
    "import os\n",
    "import subprocess\n",
    "\n",
    "from scipy.spatial.transform import Rotation"
   ]
  },
  {
   "cell_type": "code",
   "execution_count": 11,
   "id": "28be16b7",
   "metadata": {},
   "outputs": [],
   "source": [
    "plt.style.use('default_colors.mplstyle')"
   ]
  },
  {
   "cell_type": "code",
   "execution_count": 12,
   "id": "0d4df3c1",
   "metadata": {},
   "outputs": [],
   "source": [
    "# Задаем векторы для отображения осей координат\n",
    "Ox, Oy, Oz = np.eye(3)\n",
    "O = np.zeros(3)"
   ]
  },
  {
   "cell_type": "code",
   "execution_count": 13,
   "id": "00ca6fef",
   "metadata": {},
   "outputs": [],
   "source": [
    "# Формируем поворот с помощью встроенной функции\n",
    "r = Rotation.from_quat([0.0087, 0.0, 0.0, 0.9999])"
   ]
  },
  {
   "cell_type": "code",
   "execution_count": 19,
   "id": "5c675044",
   "metadata": {},
   "outputs": [],
   "source": [
    "U = np.array([1, 1, 1])\n",
    "rU = r.apply(U)"
   ]
  },
  {
   "cell_type": "code",
   "execution_count": 15,
   "id": "6978820c",
   "metadata": {},
   "outputs": [],
   "source": [
    "%%capture\n",
    "# capture предотвращает отображение картинки\n",
    "\n",
    "fig01 = plt.figure(num=1, dpi=200)\n",
    "ax01 = fig01.add_subplot(1,1,1, projection='3d')\n",
    "\n",
    "ax01.set(\n",
    "    xlim=(-2.0, 2.0),\n",
    "    ylim=(-2.0, 2.0),\n",
    "    zlim=(-2.0, 2.0),\n",
    "    aspect='auto'\n",
    ")\n",
    "\n",
    "\n",
    "# Рисуем базисные векторы\n",
    "ax01.quiver3D(*O, *Ox, color='red')\n",
    "ax01.quiver3D(*O, *Oy, color='green')\n",
    "ax01.quiver3D(*O, *Oz, color='blue');\n",
    "\n",
    "# Рисуем оригинальный вектор\n",
    "ax01.quiver3D(*O, *U, color='black')\n",
    "# Будем отображать путь стрелки в пространстве\n",
    "trace, = ax01.plot(xs=[], ys=[], zs=[])"
   ]
  },
  {
   "cell_type": "code",
   "execution_count": 16,
   "id": "24919e68",
   "metadata": {},
   "outputs": [],
   "source": [
    "# укажем директорию, в которую будем \n",
    "# сохранять сгенерированные картинки\n",
    "FOLDER = 'rot3D'\n",
    "try:\n",
    "    os.mkdir(FOLDER)\n",
    "except FileExistsError:\n",
    "    pass"
   ]
  },
  {
   "cell_type": "code",
   "execution_count": 17,
   "id": "de031f5b",
   "metadata": {},
   "outputs": [
    {
     "name": "stderr",
     "output_type": "stream",
     "text": [
      "D:\\anac\\lib\\site-packages\\ipykernel_launcher.py:11: MatplotlibDeprecationWarning: \n",
      "The modification of the Axes.collections property was deprecated in Matplotlib 3.5 and will be removed two minor releases later. Use Artist.remove() instead.\n",
      "  # This is added back by InteractiveShellApp.init_path()\n"
     ]
    }
   ],
   "source": [
    "for i in range(1*360):\n",
    "    # Сохраняем картинку\n",
    "    fig01.savefig(f'{FOLDER}/{i:03d}.png', dpi=300, format='png')\n",
    "    \n",
    "    # Добавляем очередную точку пути стрелки\n",
    "    # для трехмерного случая используются другие функции\n",
    "    x, y, z = trace.get_data_3d()\n",
    "    trace.set_data_3d(np.append(x, U[0]), np.append(y, U[1]), np.append(z, U[2]))\n",
    "    \n",
    "    # Удаляем вектор\n",
    "    del ax01.collections[3]\n",
    "    # Вращаем его\n",
    "    U = r.apply(U)\n",
    "    # Вновь рисуем\n",
    "    ax01.quiver3D(*O, *U, color='black')"
   ]
  },
  {
   "cell_type": "code",
   "execution_count": 18,
   "id": "6a5a0c24",
   "metadata": {},
   "outputs": [
    {
     "name": "stdout",
     "output_type": "stream",
     "text": [
      "D:\\ffmpeg\\bin\\ffmpeg.exe -y -r 30 -f image2 -i rot3D/%03d.png -vcodec libx264 -crf 25 -pix_fmt yuv420p rot3D.mp4\n",
      "ffmpeg version n4.4.1-2-gcc33e73618-20211107 Copyright (c) 2000-2021 the FFmpeg developers\n",
      "  built with gcc 10-win32 (GCC) 20210610\n",
      "  configuration: --prefix=/ffbuild/prefix --pkg-config-flags=--static --pkg-config=pkg-config --cross-prefix=x86_64-w64-mingw32- --arch=x86_64 --target-os=mingw32 --enable-gpl --enable-version3 --disable-debug --disable-w32threads --enable-pthreads --enable-iconv --enable-libxml2 --enable-zlib --enable-libfreetype --enable-libfribidi --enable-gmp --enable-lzma --enable-fontconfig --enable-libvorbis --enable-opencl --enable-libvmaf --enable-vulkan --disable-libxcb --disable-xlib --enable-amf --enable-libaom --enable-avisynth --enable-libdav1d --enable-libdavs2 --disable-libfdk-aac --enable-ffnvcodec --enable-cuda-llvm --disable-frei0r --enable-libglslang --enable-libgme --enable-libass --enable-libbluray --enable-libmp3lame --enable-libopus --enable-libtheora --enable-libvpx --enable-libwebp --enable-lv2 --enable-libmfx --enable-libopencore-amrnb --enable-libopencore-amrwb --enable-libopenjpeg --enable-librav1e --enable-librubberband --enable-schannel --enable-sdl2 --enable-libsoxr --enable-libsrt --enable-libsvtav1 --enable-libtwolame --enable-libuavs3d --disable-libdrm --disable-vaapi --enable-libvidstab --enable-libx264 --enable-libx265 --enable-libxavs2 --enable-libxvid --enable-libzimg --enable-libzvbi --extra-cflags=-DLIBTWOLAME_STATIC --extra-cxxflags= --extra-ldflags=-pthread --extra-ldexeflags= --extra-libs=-lgomp --extra-version=20211107\n",
      "  libavutil      56. 70.100 / 56. 70.100\n",
      "  libavcodec     58.134.100 / 58.134.100\n",
      "  libavformat    58. 76.100 / 58. 76.100\n",
      "  libavdevice    58. 13.100 / 58. 13.100\n",
      "  libavfilter     7.110.100 /  7.110.100\n",
      "  libswscale      5.  9.100 /  5.  9.100\n",
      "  libswresample   3.  9.100 /  3.  9.100\n",
      "  libpostproc    55.  9.100 / 55.  9.100\n",
      "Input #0, image2, from 'rot3D/%03d.png':\n",
      "  Duration: 00:00:12.00, start: 0.000000, bitrate: N/A\n",
      "  Stream #0:0: Video: png, rgba(pc), 1200x1200 [SAR 11811:11811 DAR 1:1], 30 fps, 30 tbr, 30 tbn, 30 tbc\n",
      "Stream mapping:\n",
      "  Stream #0:0 -> #0:0 (png (native) -> h264 (libx264))\n",
      "Press [q] to stop, [?] for help\n",
      "[libx264 @ 0000020400b5c080] using SAR=1/1\n",
      "[libx264 @ 0000020400b5c080] using cpu capabilities: MMX2 SSE2Fast SSSE3 SSE4.2 AVX FMA3 BMI2 AVX2\n",
      "[libx264 @ 0000020400b5c080] profile High, level 4.0, 4:2:0, 8-bit\n",
      "[libx264 @ 0000020400b5c080] 264 - core 164 - H.264/MPEG-4 AVC codec - Copyleft 2003-2021 - http://www.videolan.org/x264.html - options: cabac=1 ref=3 deblock=1:0:0 analyse=0x3:0x113 me=hex subme=7 psy=1 psy_rd=1.00:0.00 mixed_ref=1 me_range=16 chroma_me=1 trellis=1 8x8dct=1 cqm=0 deadzone=21,11 fast_pskip=1 chroma_qp_offset=-2 threads=12 lookahead_threads=2 sliced_threads=0 nr=0 decimate=1 interlaced=0 bluray_compat=0 constrained_intra=0 bframes=3 b_pyramid=2 b_adapt=1 b_bias=0 direct=1 weightb=1 open_gop=0 weightp=2 keyint=250 keyint_min=25 scenecut=40 intra_refresh=0 rc_lookahead=40 rc=crf mbtree=1 crf=25.0 qcomp=0.60 qpmin=0 qpmax=69 qpstep=4 ip_ratio=1.40 aq=1:1.00\n",
      "Output #0, mp4, to 'rot3D.mp4':\n",
      "  Metadata:\n",
      "    encoder         : Lavf58.76.100\n",
      "  Stream #0:0: Video: h264 (avc1 / 0x31637661), yuv420p(tv, progressive), 1200x1200 [SAR 1:1 DAR 1:1], q=2-31, 30 fps, 15360 tbn\n",
      "    Metadata:\n",
      "      encoder         : Lavc58.134.100 libx264\n",
      "    Side data:\n",
      "      cpb: bitrate max/min/avg: 0/0/0 buffer size: 0 vbv_delay: N/A\n",
      "frame=  360 fps= 68 q=-1.0 Lsize=     372kB time=00:00:11.90 bitrate= 255.9kbits/s speed=2.24x    \n",
      "video:367kB audio:0kB subtitle:0kB other streams:0kB global headers:0kB muxing overhead: 1.380442%\n",
      "[libx264 @ 0000020400b5c080] frame I:2     Avg QP:18.40  size:130393\n",
      "[libx264 @ 0000020400b5c080] frame P:94    Avg QP:21.54  size:   676\n",
      "[libx264 @ 0000020400b5c080] frame B:264   Avg QP:25.97  size:   192\n",
      "[libx264 @ 0000020400b5c080] consecutive B-frames:  1.4%  2.2%  0.8% 95.6%\n",
      "[libx264 @ 0000020400b5c080] mb I  I16..4: 35.8% 27.4% 36.8%\n",
      "[libx264 @ 0000020400b5c080] mb P  I16..4:  0.0%  0.0%  0.0%  P16..4:  0.2%  0.1%  0.2%  0.0%  0.0%    skip:99.4%\n",
      "[libx264 @ 0000020400b5c080] mb B  I16..4:  0.0%  0.0%  0.0%  B16..8:  0.2%  0.1%  0.1%  direct: 0.0%  skip:99.6%  L0:35.2% L1:44.4% BI:20.4%\n",
      "[libx264 @ 0000020400b5c080] 8x8 transform intra:28.3% inter:7.8%\n",
      "[libx264 @ 0000020400b5c080] coded y,uvDC,uvAC intra: 28.9% 1.3% 1.1% inter: 0.1% 0.0% 0.0%\n",
      "[libx264 @ 0000020400b5c080] i16 v,h,dc,p: 89%  7%  4%  0%\n",
      "[libx264 @ 0000020400b5c080] i8 v,h,dc,ddl,ddr,vr,hd,vl,hu: 67%  6% 27%  0%  0%  0%  0%  0%  0%\n",
      "[libx264 @ 0000020400b5c080] i4 v,h,dc,ddl,ddr,vr,hd,vl,hu: 27% 19% 20% 11%  2%  2% 12%  3%  4%\n",
      "[libx264 @ 0000020400b5c080] i8c dc,h,v,p: 99%  0%  1%  0%\n",
      "[libx264 @ 0000020400b5c080] Weighted P-Frames: Y:0.0% UV:0.0%\n",
      "[libx264 @ 0000020400b5c080] ref P L0: 76.2%  8.5% 11.6%  3.6%\n",
      "[libx264 @ 0000020400b5c080] ref B L0: 85.6% 12.8%  1.6%\n",
      "[libx264 @ 0000020400b5c080] ref B L1: 98.2%  1.8%\n",
      "[libx264 @ 0000020400b5c080] kb/s:249.90\n",
      "\n"
     ]
    }
   ],
   "source": [
    "FFMPEG = 'D:\\\\ffmpeg\\\\bin\\\\ffmpeg.exe'\n",
    "\n",
    "CMD = [FFMPEG, '-y', '-r', '30', '-f', 'image2', '-i', f'{FOLDER}/%03d.png',\n",
    "       '-vcodec', 'libx264', '-crf', '25', '-pix_fmt', 'yuv420p', 'rot3D.mp4']\n",
    "print(' '.join(CMD))\n",
    "\n",
    "out = subprocess.run(CMD, capture_output=True)\n",
    "print(out.stderr.decode('utf-8'))"
   ]
  },
  {
   "cell_type": "code",
   "execution_count": null,
   "id": "de098dd6",
   "metadata": {},
   "outputs": [],
   "source": []
  }
 ],
 "metadata": {
  "kernelspec": {
   "display_name": "Python 3 (ipykernel)",
   "language": "python",
   "name": "python3"
  },
  "language_info": {
   "codemirror_mode": {
    "name": "ipython",
    "version": 3
   },
   "file_extension": ".py",
   "mimetype": "text/x-python",
   "name": "python",
   "nbconvert_exporter": "python",
   "pygments_lexer": "ipython3",
   "version": "3.9.7"
  }
 },
 "nbformat": 4,
 "nbformat_minor": 5
}
